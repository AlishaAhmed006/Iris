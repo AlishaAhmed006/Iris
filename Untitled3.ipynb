{
  "nbformat": 4,
  "nbformat_minor": 0,
  "metadata": {
    "colab": {
      "provenance": []
    },
    "kernelspec": {
      "name": "python3",
      "display_name": "Python 3"
    },
    "language_info": {
      "name": "python"
    }
  },
  "cells": [
    {
      "cell_type": "code",
      "execution_count": 2,
      "metadata": {
        "id": "oa5X-qQqJCAE"
      },
      "outputs": [],
      "source": [
        "from sklearn.datasets import load_iris\n",
        "iris=load_iris()\n"
      ]
    },
    {
      "cell_type": "code",
      "source": [
        "x=iris.data\n",
        "y=iris.target\n",
        "fn=iris.feature_names\n",
        "tn=iris.target_names"
      ],
      "metadata": {
        "id": "psfhNsE9JaM0"
      },
      "execution_count": 3,
      "outputs": []
    },
    {
      "cell_type": "code",
      "source": [
        "from sklearn.model_selection import train_test_split\n",
        "x_train,x_test,y_train,y_test=train_test_split(x,y,test_size=0.4)\n",
        "# print(x_train.shape)\n",
        "# print(x_test.shape)\n",
        "# print(y_train.shape)\n",
        "# print(y_test.shape)"
      ],
      "metadata": {
        "id": "HMwOezMeKKAI"
      },
      "execution_count": 35,
      "outputs": []
    },
    {
      "cell_type": "code",
      "source": [
        "from sklearn.neighbors import KNeighborsClassifier\n",
        "knn=KNeighborsClassifier(n_neighbors=3)\n",
        "knn.fit(x_train,y_train)\n",
        "y_pred=knn.predict(x_test)\n"
      ],
      "metadata": {
        "id": "dcYdzi3rK8LF"
      },
      "execution_count": 36,
      "outputs": []
    },
    {
      "cell_type": "code",
      "source": [
        "from sklearn import metrics\n",
        "print(metrics.accuracy_score(y_test,y_pred))"
      ],
      "metadata": {
        "colab": {
          "base_uri": "https://localhost:8080/"
        },
        "id": "-GmzLd3wLlsD",
        "outputId": "72db72b1-4256-4c13-9c06-b0b1a2fb527d"
      },
      "execution_count": 37,
      "outputs": [
        {
          "output_type": "stream",
          "name": "stdout",
          "text": [
            "0.9666666666666667\n"
          ]
        }
      ]
    },
    {
      "cell_type": "code",
      "source": [
        "sample=[[3,5,4,2],[2,3,5,4]]\n",
        "predictions=knn.predict(sample)\n",
        "pred_species=[iris.target_names[p] for p in predictions]\n",
        "print(\"predictions:\"+str(pred_species))"
      ],
      "metadata": {
        "colab": {
          "base_uri": "https://localhost:8080/"
        },
        "id": "bcdEAQZCMxWP",
        "outputId": "f2f62fd2-aac9-4671-f2be-99ddfcb5616c"
      },
      "execution_count": 40,
      "outputs": [
        {
          "output_type": "stream",
          "name": "stdout",
          "text": [
            "predictions:[np.str_('versicolor'), np.str_('virginica')]\n"
          ]
        }
      ]
    },
    {
      "cell_type": "code",
      "source": [
        "import joblib\n",
        "model=joblib.dump(knn,\"mlbrain.joblib\")\n"
      ],
      "metadata": {
        "id": "Gj7zwC8QNRo1"
      },
      "execution_count": 43,
      "outputs": []
    },
    {
      "cell_type": "code",
      "source": [
        "model=joblib.load(\"mlbrain.joblib\")\n",
        "model.predict(x_test)"
      ],
      "metadata": {
        "colab": {
          "base_uri": "https://localhost:8080/"
        },
        "id": "0Wt0lyyXOctn",
        "outputId": "20887ce5-3a8d-4732-d1f3-3b1442b12acc"
      },
      "execution_count": 44,
      "outputs": [
        {
          "output_type": "execute_result",
          "data": {
            "text/plain": [
              "array([2, 0, 1, 2, 0, 1, 2, 1, 1, 2, 1, 2, 2, 1, 2, 0, 0, 0, 1, 2, 2, 0,\n",
              "       1, 2, 2, 1, 1, 1, 2, 2, 2, 0, 1, 2, 1, 0, 0, 2, 2, 2, 2, 0, 1, 0,\n",
              "       2, 2, 0, 1, 2, 2, 1, 1, 2, 0, 2, 0, 2, 0, 0, 0])"
            ]
          },
          "metadata": {},
          "execution_count": 44
        }
      ]
    }
  ]
}